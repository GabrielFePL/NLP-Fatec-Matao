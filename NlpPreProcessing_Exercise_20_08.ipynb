{
  "nbformat": 4,
  "nbformat_minor": 0,
  "metadata": {
    "colab": {
      "provenance": [],
      "authorship_tag": "ABX9TyME4Co+HSC0YEEhocrTkF2U",
      "include_colab_link": true
    },
    "kernelspec": {
      "name": "python3",
      "display_name": "Python 3"
    },
    "language_info": {
      "name": "python"
    }
  },
  "cells": [
    {
      "cell_type": "markdown",
      "metadata": {
        "id": "view-in-github",
        "colab_type": "text"
      },
      "source": [
        "<a href=\"https://colab.research.google.com/github/GabrielFePL/NLP-Fatec-Matao/blob/main/NlpPreProcessing_Exercise_20_08.ipynb\" target=\"_parent\"><img src=\"https://colab.research.google.com/assets/colab-badge.svg\" alt=\"Open In Colab\"/></a>"
      ]
    },
    {
      "cell_type": "markdown",
      "source": [
        "# Natural Language Processing - Fatec Matão"
      ],
      "metadata": {
        "id": "Bse1fdPM0X_z"
      }
    },
    {
      "cell_type": "markdown",
      "source": [
        "## Environment Configuration"
      ],
      "metadata": {
        "id": "gPgXEobI0tJL"
      }
    },
    {
      "cell_type": "code",
      "execution_count": 14,
      "metadata": {
        "id": "jsOyBZii0FLQ"
      },
      "outputs": [],
      "source": [
        "import unicodedata\n",
        "import string\n",
        "import nltk\n",
        "from nltk.tokenize import word_tokenize\n",
        "from nltk.corpus import stopwords\n",
        "import spacy"
      ]
    },
    {
      "cell_type": "code",
      "source": [
        "nltk.download('punkt_tab')"
      ],
      "metadata": {
        "colab": {
          "base_uri": "https://localhost:8080/"
        },
        "id": "zc5VzElS5obD",
        "outputId": "fc97448d-1d95-4132-d9e0-09a804ce1ed4"
      },
      "execution_count": 15,
      "outputs": [
        {
          "output_type": "stream",
          "name": "stderr",
          "text": [
            "[nltk_data] Downloading package punkt_tab to /root/nltk_data...\n",
            "[nltk_data]   Package punkt_tab is already up-to-date!\n"
          ]
        },
        {
          "output_type": "execute_result",
          "data": {
            "text/plain": [
              "True"
            ]
          },
          "metadata": {},
          "execution_count": 15
        }
      ]
    },
    {
      "cell_type": "code",
      "source": [
        "nltk.download('stopwords')\n",
        "language = \"english\"\n",
        "stopwords_en = stopwords.words(language)"
      ],
      "metadata": {
        "colab": {
          "base_uri": "https://localhost:8080/"
        },
        "id": "8E8-buxs4mKU",
        "outputId": "3a029617-2208-46e5-96cf-97cf2f1efb62"
      },
      "execution_count": 16,
      "outputs": [
        {
          "output_type": "stream",
          "name": "stderr",
          "text": [
            "[nltk_data] Downloading package stopwords to /root/nltk_data...\n",
            "[nltk_data]   Package stopwords is already up-to-date!\n"
          ]
        }
      ]
    },
    {
      "cell_type": "code",
      "source": [
        "stemmer = nltk.PorterStemmer()"
      ],
      "metadata": {
        "id": "vSTdxPz9589b"
      },
      "execution_count": 17,
      "outputs": []
    },
    {
      "cell_type": "markdown",
      "source": [
        "## Basic Normalization"
      ],
      "metadata": {
        "id": "8emXXaq80467"
      }
    },
    {
      "cell_type": "code",
      "source": [
        "def normalize(text: str) -> str:\n",
        "  text = text.lower()\n",
        "  text = ''.join(c for c in unicodedata.normalize('NFD', text)\n",
        "                    if unicodedata.category(c) != 'Mn')\n",
        "  text = text.translate(str.maketrans('', '', string.punctuation))\n",
        "\n",
        "  return text"
      ],
      "metadata": {
        "id": "bad7uPOO1Dmx"
      },
      "execution_count": 18,
      "outputs": []
    },
    {
      "cell_type": "code",
      "source": [
        "phrase = \"Its very good to learning Natural Language Processing!!!\"\n",
        "normalized_phrase = normalize(phrase)\n",
        "print(normalized_phrase)"
      ],
      "metadata": {
        "colab": {
          "base_uri": "https://localhost:8080/"
        },
        "id": "0kZRZ-902QCN",
        "outputId": "7d5d40ad-82d3-455b-91e1-eec74203eb4b"
      },
      "execution_count": 19,
      "outputs": [
        {
          "output_type": "stream",
          "name": "stdout",
          "text": [
            "its very good to learning natural language processing\n"
          ]
        }
      ]
    },
    {
      "cell_type": "markdown",
      "source": [
        "## Tokenization and Stopword Remotion"
      ],
      "metadata": {
        "id": "HU2Tc5vM2yww"
      }
    },
    {
      "cell_type": "code",
      "source": [
        "tokens = word_tokenize(normalized_phrase)"
      ],
      "metadata": {
        "id": "n9QcAL3Y21XW"
      },
      "execution_count": 20,
      "outputs": []
    },
    {
      "cell_type": "code",
      "source": [
        "filtered_tokens = [w for w in tokens if w not in stopwords_en]\n",
        "print(filtered_tokens)"
      ],
      "metadata": {
        "colab": {
          "base_uri": "https://localhost:8080/"
        },
        "id": "LLjRNDKh5xtL",
        "outputId": "62c5eb30-7702-453d-d332-1bf2bb0b6d4a"
      },
      "execution_count": 21,
      "outputs": [
        {
          "output_type": "stream",
          "name": "stdout",
          "text": [
            "['good', 'learning', 'natural', 'language', 'processing']\n"
          ]
        }
      ]
    },
    {
      "cell_type": "markdown",
      "source": [
        "## Stemming"
      ],
      "metadata": {
        "id": "f2Ur07msOe_f"
      }
    },
    {
      "cell_type": "code",
      "source": [
        "stems = [stemmer.stem(w) for w in filtered_tokens]\n",
        "print(stems)"
      ],
      "metadata": {
        "colab": {
          "base_uri": "https://localhost:8080/"
        },
        "id": "daOkM3WKOgU2",
        "outputId": "64779905-5744-42c3-b18e-303557a55898"
      },
      "execution_count": 22,
      "outputs": [
        {
          "output_type": "stream",
          "name": "stdout",
          "text": [
            "['good', 'learn', 'natur', 'languag', 'process']\n"
          ]
        }
      ]
    },
    {
      "cell_type": "markdown",
      "source": [
        "## Lemmatization"
      ],
      "metadata": {
        "id": "WweOAFgiOYk6"
      }
    },
    {
      "cell_type": "code",
      "source": [
        "nlp = spacy.load(\"en_core_web_sm\")"
      ],
      "metadata": {
        "id": "4mk0ZvTrReKf"
      },
      "execution_count": 23,
      "outputs": []
    },
    {
      "cell_type": "code",
      "source": [
        "doc = nlp(\" \".join(filtered_tokens))\n",
        "lemmas = [token.lemma_ for token in doc if not token.is_stop and token.is_alpha]\n",
        "print(\"Lemmatization: \", lemmas)"
      ],
      "metadata": {
        "colab": {
          "base_uri": "https://localhost:8080/"
        },
        "id": "RFSkxv8QOb7A",
        "outputId": "264378ca-6f70-4de4-b49e-14f020c60431"
      },
      "execution_count": 24,
      "outputs": [
        {
          "output_type": "stream",
          "name": "stdout",
          "text": [
            "Lemmatization:  ['good', 'learn', 'natural', 'language', 'processing']\n"
          ]
        }
      ]
    }
  ]
}